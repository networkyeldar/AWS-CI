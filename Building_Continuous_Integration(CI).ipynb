{
  "nbformat": 4,
  "nbformat_minor": 0,
  "metadata": {
    "colab": {
      "provenance": [],
      "authorship_tag": "ABX9TyO3UDgAlbzqqpgs1V4FN5Oz",
      "include_colab_link": true
    },
    "kernelspec": {
      "name": "python3",
      "display_name": "Python 3"
    },
    "language_info": {
      "name": "python"
    }
  },
  "cells": [
    {
      "cell_type": "markdown",
      "metadata": {
        "id": "view-in-github",
        "colab_type": "text"
      },
      "source": [
        "<a href=\"https://colab.research.google.com/github/networkyeldar/AWS-CI/blob/main/Building_Continuous_Integration(CI).ipynb\" target=\"_parent\"><img src=\"https://colab.research.google.com/assets/colab-badge.svg\" alt=\"Open In Colab\"/></a>"
      ]
    },
    {
      "cell_type": "markdown",
      "source": [],
      "metadata": {
        "id": "lUhv4_rdYE3e"
      }
    },
    {
      "cell_type": "markdown",
      "source": [
        "# Building Continuous Integration(CI) pipeline using AWS Cloud9\n",
        "This a demo video for creating CI on AWS\n",
        "\n",
        "# Steps to run the project\n",
        "* Create a repository on GitHub\n",
        "* Open [AWS Cloud9](https://us-east-1.console.aws.amazon.com/cloud9control/home?region=us-east-1#/product)"
      ],
      "metadata": {
        "id": "viNZWgszYG_l"
      }
    }
  ]
}